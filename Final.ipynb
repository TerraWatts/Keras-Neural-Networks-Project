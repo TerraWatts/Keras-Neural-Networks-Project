{
 "cells": [
  {
   "cell_type": "markdown",
   "metadata": {},
   "source": [
    "# Final Project - Build a Regression Model in Keras\n",
    "By Watts Dietrich\n",
    "\n",
    "This is the final project for the course titled \"Introduction to Deep Learning & Neural Networks with Keras,\" a part of the IBM AI Engineering Professional Certificate on Coursera. This project uses neural networks to study a concrete dataset. The dataset contains information on the quantities of materials used in a given batch of concrete, the age of the concrete, and the measured strength of the concrete. The goal of this exercise is to train neural networks to predict the strength of a batch given its other characteristics."
   ]
  },
  {
   "cell_type": "code",
   "execution_count": 20,
   "metadata": {},
   "outputs": [],
   "source": [
    "import pandas as pd\n",
    "import numpy as np\n",
    "import sklearn\n",
    "from sklearn import model_selection\n",
    "import keras\n",
    "from keras.models import Sequential\n",
    "from keras.layers import Dense\n",
    "import statistics"
   ]
  },
  {
   "cell_type": "markdown",
   "metadata": {},
   "source": [
    "# Part A\n",
    "The concrete dataset is imported and split into training and testing sets (70/30). A neural network with one hidden layer of 10 nodes is built and trained. Then the mean squared error is calculated for the model. This process is repeated 50 times. The average and standard deviation of the 50 MSE values are calculated and displayed.  "
   ]
  },
  {
   "cell_type": "code",
   "execution_count": 2,
   "metadata": {},
   "outputs": [
    {
     "data": {
      "text/html": [
       "<div>\n",
       "<style scoped>\n",
       "    .dataframe tbody tr th:only-of-type {\n",
       "        vertical-align: middle;\n",
       "    }\n",
       "\n",
       "    .dataframe tbody tr th {\n",
       "        vertical-align: top;\n",
       "    }\n",
       "\n",
       "    .dataframe thead th {\n",
       "        text-align: right;\n",
       "    }\n",
       "</style>\n",
       "<table border=\"1\" class=\"dataframe\">\n",
       "  <thead>\n",
       "    <tr style=\"text-align: right;\">\n",
       "      <th></th>\n",
       "      <th>Cement</th>\n",
       "      <th>Blast Furnace Slag</th>\n",
       "      <th>Fly Ash</th>\n",
       "      <th>Water</th>\n",
       "      <th>Superplasticizer</th>\n",
       "      <th>Coarse Aggregate</th>\n",
       "      <th>Fine Aggregate</th>\n",
       "      <th>Age</th>\n",
       "      <th>Strength</th>\n",
       "    </tr>\n",
       "  </thead>\n",
       "  <tbody>\n",
       "    <tr>\n",
       "      <th>0</th>\n",
       "      <td>540.0</td>\n",
       "      <td>0.0</td>\n",
       "      <td>0.0</td>\n",
       "      <td>162.0</td>\n",
       "      <td>2.5</td>\n",
       "      <td>1040.0</td>\n",
       "      <td>676.0</td>\n",
       "      <td>28</td>\n",
       "      <td>79.99</td>\n",
       "    </tr>\n",
       "    <tr>\n",
       "      <th>1</th>\n",
       "      <td>540.0</td>\n",
       "      <td>0.0</td>\n",
       "      <td>0.0</td>\n",
       "      <td>162.0</td>\n",
       "      <td>2.5</td>\n",
       "      <td>1055.0</td>\n",
       "      <td>676.0</td>\n",
       "      <td>28</td>\n",
       "      <td>61.89</td>\n",
       "    </tr>\n",
       "    <tr>\n",
       "      <th>2</th>\n",
       "      <td>332.5</td>\n",
       "      <td>142.5</td>\n",
       "      <td>0.0</td>\n",
       "      <td>228.0</td>\n",
       "      <td>0.0</td>\n",
       "      <td>932.0</td>\n",
       "      <td>594.0</td>\n",
       "      <td>270</td>\n",
       "      <td>40.27</td>\n",
       "    </tr>\n",
       "    <tr>\n",
       "      <th>3</th>\n",
       "      <td>332.5</td>\n",
       "      <td>142.5</td>\n",
       "      <td>0.0</td>\n",
       "      <td>228.0</td>\n",
       "      <td>0.0</td>\n",
       "      <td>932.0</td>\n",
       "      <td>594.0</td>\n",
       "      <td>365</td>\n",
       "      <td>41.05</td>\n",
       "    </tr>\n",
       "    <tr>\n",
       "      <th>4</th>\n",
       "      <td>198.6</td>\n",
       "      <td>132.4</td>\n",
       "      <td>0.0</td>\n",
       "      <td>192.0</td>\n",
       "      <td>0.0</td>\n",
       "      <td>978.4</td>\n",
       "      <td>825.5</td>\n",
       "      <td>360</td>\n",
       "      <td>44.30</td>\n",
       "    </tr>\n",
       "  </tbody>\n",
       "</table>\n",
       "</div>"
      ],
      "text/plain": [
       "   Cement  Blast Furnace Slag  Fly Ash  Water  Superplasticizer  \\\n",
       "0   540.0                 0.0      0.0  162.0               2.5   \n",
       "1   540.0                 0.0      0.0  162.0               2.5   \n",
       "2   332.5               142.5      0.0  228.0               0.0   \n",
       "3   332.5               142.5      0.0  228.0               0.0   \n",
       "4   198.6               132.4      0.0  192.0               0.0   \n",
       "\n",
       "   Coarse Aggregate  Fine Aggregate  Age  Strength  \n",
       "0            1040.0           676.0   28     79.99  \n",
       "1            1055.0           676.0   28     61.89  \n",
       "2             932.0           594.0  270     40.27  \n",
       "3             932.0           594.0  365     41.05  \n",
       "4             978.4           825.5  360     44.30  "
      ]
     },
     "execution_count": 2,
     "metadata": {},
     "output_type": "execute_result"
    }
   ],
   "source": [
    "# Read dataset into a dataframe\n",
    "df = pd.read_csv('https://cocl.us/concrete_data')\n",
    "df.head()"
   ]
  },
  {
   "cell_type": "code",
   "execution_count": 3,
   "metadata": {},
   "outputs": [],
   "source": [
    "# Split data into training and testing sets with a 70/30 split. X contains predictors, y the target.\n",
    "x = np.array(df.drop([\"Strength\"], 1))\n",
    "y = np.array(df[\"Strength\"])\n",
    "x_train, x_test, y_train, y_test = sklearn.model_selection.train_test_split(x, y, test_size = 0.3)"
   ]
  },
  {
   "cell_type": "code",
   "execution_count": 4,
   "metadata": {},
   "outputs": [],
   "source": [
    "# Get number of predictor columns. Used for defining input_shape in the model.\n",
    "n_cols = x.shape[1]"
   ]
  },
  {
   "cell_type": "code",
   "execution_count": 5,
   "metadata": {},
   "outputs": [],
   "source": [
    "# Define a function to build a model with one hidden layer of 10 nodes, relu activation function, adam optimizer, mse loss function\n",
    "def build_model():\n",
    "    # create model\n",
    "    model = Sequential()\n",
    "    model.add(Dense(10, activation='relu', input_shape=(n_cols,)))\n",
    "    model.add(Dense(1))\n",
    "    \n",
    "    # compile model\n",
    "    model.compile(optimizer='adam', loss='mean_squared_error')\n",
    "    return model"
   ]
  },
  {
   "cell_type": "code",
   "execution_count": 6,
   "metadata": {},
   "outputs": [],
   "source": [
    "# List to store mse values of the 50 models\n",
    "mse_list = []"
   ]
  },
  {
   "cell_type": "code",
   "execution_count": 64,
   "metadata": {},
   "outputs": [
    {
     "name": "stdout",
     "output_type": "stream",
     "text": [
      "Model 0 training complete. The MSE was: 193.80246059230902\n",
      "Model 1 training complete. The MSE was: 109.73453216396886\n",
      "Model 2 training complete. The MSE was: 221.5516158704487\n",
      "Model 3 training complete. The MSE was: 1676.1986894496026\n",
      "Model 4 training complete. The MSE was: 1154.95239368909\n",
      "Model 5 training complete. The MSE was: 222.05402248378294\n",
      "Model 6 training complete. The MSE was: 137.4642788191713\n",
      "Model 7 training complete. The MSE was: 107.21647397059424\n",
      "Model 8 training complete. The MSE was: 86.37462910069644\n",
      "Model 9 training complete. The MSE was: 195.65405411115236\n",
      "Model 10 training complete. The MSE was: 121.78432329303307\n",
      "Model 11 training complete. The MSE was: 157.644750262606\n",
      "Model 12 training complete. The MSE was: 352.80734351608805\n",
      "Model 13 training complete. The MSE was: 114.31753617283162\n",
      "Model 14 training complete. The MSE was: 255.4921056761277\n",
      "Model 15 training complete. The MSE was: 268.4489207071769\n",
      "Model 16 training complete. The MSE was: 169.8226917826427\n",
      "Model 17 training complete. The MSE was: 133.50623834312964\n",
      "Model 18 training complete. The MSE was: 295.3503093562057\n",
      "Model 19 training complete. The MSE was: 174.61552313185015\n",
      "Model 20 training complete. The MSE was: 140.9262218242271\n",
      "Model 21 training complete. The MSE was: 130.6080502908557\n",
      "Model 22 training complete. The MSE was: 286.2263494808692\n",
      "Model 23 training complete. The MSE was: 238.30313729475927\n",
      "Model 24 training complete. The MSE was: 77.31320290234069\n",
      "Model 25 training complete. The MSE was: 249.21647502860137\n",
      "Model 26 training complete. The MSE was: 191.80005116010057\n",
      "Model 27 training complete. The MSE was: 122.0045372614512\n",
      "Model 28 training complete. The MSE was: 258.97666383588376\n",
      "Model 29 training complete. The MSE was: 195.1973803563572\n",
      "Model 30 training complete. The MSE was: 183.05689884559794\n",
      "Model 31 training complete. The MSE was: 297.32904457209827\n",
      "Model 32 training complete. The MSE was: 107.95982868612299\n",
      "Model 33 training complete. The MSE was: 1142.329832484631\n",
      "Model 34 training complete. The MSE was: 747.4757877423641\n",
      "Model 35 training complete. The MSE was: 434.567928924137\n",
      "Model 36 training complete. The MSE was: 194.92213149314554\n",
      "Model 37 training complete. The MSE was: 268.53777331689236\n",
      "Model 38 training complete. The MSE was: 532.0469459233407\n",
      "Model 39 training complete. The MSE was: 149.9655457873248\n",
      "Model 40 training complete. The MSE was: 271.3840645047907\n",
      "Model 41 training complete. The MSE was: 141.13155255657023\n",
      "Model 42 training complete. The MSE was: 166.94125849802435\n",
      "Model 43 training complete. The MSE was: 1652.4330478395254\n",
      "Model 44 training complete. The MSE was: 93.41304551412644\n",
      "Model 45 training complete. The MSE was: 675.4708480424455\n",
      "Model 46 training complete. The MSE was: 258.3276451361717\n",
      "Model 47 training complete. The MSE was: 237.4882647192319\n",
      "Model 48 training complete. The MSE was: 738.7060128572281\n",
      "Model 49 training complete. The MSE was: 102.11122393966706\n"
     ]
    }
   ],
   "source": [
    "# Train 50 models. The MSE of each is calculated and appended to mse_list\n",
    "for i in range(50):\n",
    "    model = build_model()\n",
    "    model.fit(x_train, y_train, epochs=50, verbose=0)    \n",
    "    predictions = model.predict(x_test)\n",
    "    mse = sklearn.metrics.mean_squared_error(y_test, predictions)\n",
    "    mse_list.append(mse)   \n",
    "    print(\"Model\", i, \"training complete. The MSE was:\", mse)"
   ]
  },
  {
   "cell_type": "code",
   "execution_count": 67,
   "metadata": {},
   "outputs": [],
   "source": [
    "# Determine mean and standard deviation of the MSE values of the 50 trained models\n",
    "mse_mean = statistics.mean(mse_list)\n",
    "mse_stdev = statistics.stdev(mse_list)"
   ]
  },
  {
   "cell_type": "code",
   "execution_count": 68,
   "metadata": {},
   "outputs": [
    {
     "name": "stdout",
     "output_type": "stream",
     "text": [
      "The average MSE of the 50 models was 328.69927286622783 \n",
      "The standard deviation of the MSE values was 362.6143885248151\n"
     ]
    }
   ],
   "source": [
    "# Report the mean and standard deviation of the MSE values for the 50 models\n",
    "print(\"The average MSE of the 50 models was\", mse_mean, \"\\nThe standard deviation of the MSE values was\", mse_stdev)"
   ]
  },
  {
   "cell_type": "markdown",
   "metadata": {},
   "source": [
    "### The 50 trained models had an average MSE of 328.7, with a standard deviation of 362.6."
   ]
  },
  {
   "cell_type": "markdown",
   "metadata": {},
   "source": [
    "# Part B\n",
    "\n",
    "A repeat of part A, but using normalized data."
   ]
  },
  {
   "cell_type": "code",
   "execution_count": 8,
   "metadata": {},
   "outputs": [
    {
     "data": {
      "text/html": [
       "<div>\n",
       "<style scoped>\n",
       "    .dataframe tbody tr th:only-of-type {\n",
       "        vertical-align: middle;\n",
       "    }\n",
       "\n",
       "    .dataframe tbody tr th {\n",
       "        vertical-align: top;\n",
       "    }\n",
       "\n",
       "    .dataframe thead th {\n",
       "        text-align: right;\n",
       "    }\n",
       "</style>\n",
       "<table border=\"1\" class=\"dataframe\">\n",
       "  <thead>\n",
       "    <tr style=\"text-align: right;\">\n",
       "      <th></th>\n",
       "      <th>Cement</th>\n",
       "      <th>Blast Furnace Slag</th>\n",
       "      <th>Fly Ash</th>\n",
       "      <th>Water</th>\n",
       "      <th>Superplasticizer</th>\n",
       "      <th>Coarse Aggregate</th>\n",
       "      <th>Fine Aggregate</th>\n",
       "      <th>Age</th>\n",
       "    </tr>\n",
       "  </thead>\n",
       "  <tbody>\n",
       "    <tr>\n",
       "      <th>0</th>\n",
       "      <td>2.476712</td>\n",
       "      <td>-0.856472</td>\n",
       "      <td>-0.846733</td>\n",
       "      <td>-0.916319</td>\n",
       "      <td>-0.620147</td>\n",
       "      <td>0.862735</td>\n",
       "      <td>-1.217079</td>\n",
       "      <td>-0.279597</td>\n",
       "    </tr>\n",
       "    <tr>\n",
       "      <th>1</th>\n",
       "      <td>2.476712</td>\n",
       "      <td>-0.856472</td>\n",
       "      <td>-0.846733</td>\n",
       "      <td>-0.916319</td>\n",
       "      <td>-0.620147</td>\n",
       "      <td>1.055651</td>\n",
       "      <td>-1.217079</td>\n",
       "      <td>-0.279597</td>\n",
       "    </tr>\n",
       "    <tr>\n",
       "      <th>2</th>\n",
       "      <td>0.491187</td>\n",
       "      <td>0.795140</td>\n",
       "      <td>-0.846733</td>\n",
       "      <td>2.174405</td>\n",
       "      <td>-1.038638</td>\n",
       "      <td>-0.526262</td>\n",
       "      <td>-2.239829</td>\n",
       "      <td>3.551340</td>\n",
       "    </tr>\n",
       "    <tr>\n",
       "      <th>3</th>\n",
       "      <td>0.491187</td>\n",
       "      <td>0.795140</td>\n",
       "      <td>-0.846733</td>\n",
       "      <td>2.174405</td>\n",
       "      <td>-1.038638</td>\n",
       "      <td>-0.526262</td>\n",
       "      <td>-2.239829</td>\n",
       "      <td>5.055221</td>\n",
       "    </tr>\n",
       "    <tr>\n",
       "      <th>4</th>\n",
       "      <td>-0.790075</td>\n",
       "      <td>0.678079</td>\n",
       "      <td>-0.846733</td>\n",
       "      <td>0.488555</td>\n",
       "      <td>-1.038638</td>\n",
       "      <td>0.070492</td>\n",
       "      <td>0.647569</td>\n",
       "      <td>4.976069</td>\n",
       "    </tr>\n",
       "  </tbody>\n",
       "</table>\n",
       "</div>"
      ],
      "text/plain": [
       "     Cement  Blast Furnace Slag   Fly Ash     Water  Superplasticizer  \\\n",
       "0  2.476712           -0.856472 -0.846733 -0.916319         -0.620147   \n",
       "1  2.476712           -0.856472 -0.846733 -0.916319         -0.620147   \n",
       "2  0.491187            0.795140 -0.846733  2.174405         -1.038638   \n",
       "3  0.491187            0.795140 -0.846733  2.174405         -1.038638   \n",
       "4 -0.790075            0.678079 -0.846733  0.488555         -1.038638   \n",
       "\n",
       "   Coarse Aggregate  Fine Aggregate       Age  \n",
       "0          0.862735       -1.217079 -0.279597  \n",
       "1          1.055651       -1.217079 -0.279597  \n",
       "2         -0.526262       -2.239829  3.551340  \n",
       "3         -0.526262       -2.239829  5.055221  \n",
       "4          0.070492        0.647569  4.976069  "
      ]
     },
     "execution_count": 8,
     "metadata": {},
     "output_type": "execute_result"
    }
   ],
   "source": [
    "# Create a new dataframe with normalized predictor data\n",
    "df_norm = df.drop([\"Strength\"], 1)\n",
    "df_norm = (df_norm - df_norm.mean()) / df_norm.std()\n",
    "df_norm.head()"
   ]
  },
  {
   "cell_type": "code",
   "execution_count": 9,
   "metadata": {},
   "outputs": [],
   "source": [
    "# Split the normalized data into training and testing sets\n",
    "x_norm = np.array(df_norm)\n",
    "y_norm = np.array(df[\"Strength\"])\n",
    "x_norm_train, x_norm_test, y_norm_train, y_norm_test = sklearn.model_selection.train_test_split(x_norm, y_norm, test_size = 0.3)"
   ]
  },
  {
   "cell_type": "code",
   "execution_count": 12,
   "metadata": {},
   "outputs": [],
   "source": [
    "norm_mse_list = []"
   ]
  },
  {
   "cell_type": "code",
   "execution_count": 17,
   "metadata": {},
   "outputs": [
    {
     "name": "stdout",
     "output_type": "stream",
     "text": [
      "Model 0 training complete. The MSE was: 345.60706956271247\n",
      "Model 1 training complete. The MSE was: 487.5831459534978\n",
      "Model 2 training complete. The MSE was: 367.97605641035926\n",
      "Model 3 training complete. The MSE was: 398.79264296377636\n",
      "Model 4 training complete. The MSE was: 281.05877062727797\n",
      "Model 5 training complete. The MSE was: 285.4125202200481\n",
      "Model 6 training complete. The MSE was: 769.5818878322859\n",
      "Model 7 training complete. The MSE was: 402.835437016738\n",
      "Model 8 training complete. The MSE was: 246.77655694466088\n",
      "Model 9 training complete. The MSE was: 416.728996789066\n",
      "Model 10 training complete. The MSE was: 262.829240586475\n",
      "Model 11 training complete. The MSE was: 298.76907787696206\n",
      "Model 12 training complete. The MSE was: 502.5745447086934\n",
      "Model 13 training complete. The MSE was: 294.6260976987307\n",
      "Model 14 training complete. The MSE was: 396.07681972490536\n",
      "Model 15 training complete. The MSE was: 325.0042371817007\n",
      "Model 16 training complete. The MSE was: 320.0860781407084\n",
      "Model 17 training complete. The MSE was: 552.5565487853719\n",
      "Model 18 training complete. The MSE was: 281.5416989735334\n",
      "Model 19 training complete. The MSE was: 345.69577136981223\n",
      "Model 20 training complete. The MSE was: 340.702713495673\n",
      "Model 21 training complete. The MSE was: 432.72893345854754\n",
      "Model 22 training complete. The MSE was: 272.01704069584366\n",
      "Model 23 training complete. The MSE was: 587.6065383473252\n",
      "Model 24 training complete. The MSE was: 536.1397957951708\n",
      "Model 25 training complete. The MSE was: 457.97831081142954\n",
      "Model 26 training complete. The MSE was: 368.50019139314963\n",
      "Model 27 training complete. The MSE was: 321.467485224974\n",
      "Model 28 training complete. The MSE was: 312.8034584465801\n",
      "Model 29 training complete. The MSE was: 620.1965100950763\n",
      "Model 30 training complete. The MSE was: 348.3785682325234\n",
      "Model 31 training complete. The MSE was: 382.2564263899109\n",
      "Model 32 training complete. The MSE was: 340.46792100880066\n",
      "Model 33 training complete. The MSE was: 341.6982200184567\n",
      "Model 34 training complete. The MSE was: 564.0790496868951\n",
      "Model 35 training complete. The MSE was: 376.92452486112137\n",
      "Model 36 training complete. The MSE was: 363.4248630891554\n",
      "Model 37 training complete. The MSE was: 558.4697782747912\n",
      "Model 38 training complete. The MSE was: 387.09901430059136\n",
      "Model 39 training complete. The MSE was: 278.1665157647646\n",
      "Model 40 training complete. The MSE was: 465.6223222433101\n",
      "Model 41 training complete. The MSE was: 518.9599852642659\n",
      "Model 42 training complete. The MSE was: 311.3124420865303\n",
      "Model 43 training complete. The MSE was: 279.8525587546587\n",
      "Model 44 training complete. The MSE was: 480.493387211902\n",
      "Model 45 training complete. The MSE was: 316.8615176870953\n",
      "Model 46 training complete. The MSE was: 362.519007227091\n",
      "Model 47 training complete. The MSE was: 303.2185482492144\n",
      "Model 48 training complete. The MSE was: 325.73061543774315\n",
      "Model 49 training complete. The MSE was: 267.0286538918578\n"
     ]
    }
   ],
   "source": [
    "# Train 50 models. The MSE of each is calculated and appended to norm_mse_list\n",
    "for i in range(50):\n",
    "    model = build_model()\n",
    "    model.fit(x_norm_train, y_norm_train, epochs=50, verbose=0)    \n",
    "    norm_predictions = model.predict(x_norm_test)\n",
    "    norm_mse = sklearn.metrics.mean_squared_error(y_norm_test, norm_predictions)\n",
    "    norm_mse_list.append(norm_mse)   \n",
    "    print(\"Model\", i, \"training complete. The MSE was:\", norm_mse)"
   ]
  },
  {
   "cell_type": "code",
   "execution_count": 21,
   "metadata": {},
   "outputs": [
    {
     "name": "stdout",
     "output_type": "stream",
     "text": [
      "Using normalized data, the average MSE of the 50 models was 388.0963619362353 \n",
      "The standard deviation of the MSE values was 110.97330271682691\n"
     ]
    }
   ],
   "source": [
    "# Determine mean and standard deviation of the MSE values of the 50 trained models\n",
    "norm_mse_mean = statistics.mean(norm_mse_list)\n",
    "norm_mse_stdev = statistics.stdev(norm_mse_list)\n",
    "\n",
    "# Report the mean and standard deviation of the MSE values for the 50 models\n",
    "print(\"Using normalized data, the average MSE of the 50 models was\", norm_mse_mean, \"\\nThe standard deviation of the MSE values was\", norm_mse_stdev)"
   ]
  },
  {
   "cell_type": "markdown",
   "metadata": {},
   "source": [
    "### Using normalized data, the average MSE of the 50 models increased from 328.7 to 388.1 when compared with the un-normalized data. Meanwhile, the standard deviation decreased from 362.6 to just 111.0. Thus, while using normalized data had the downside of slightly increasing the average MSE, it also significantly reduced the standard deviation of the MSEs."
   ]
  },
  {
   "cell_type": "markdown",
   "metadata": {},
   "source": [
    "# Part C\n",
    "A repeat of Part B, but with 100-epoch models instead of 50."
   ]
  },
  {
   "cell_type": "code",
   "execution_count": 19,
   "metadata": {},
   "outputs": [
    {
     "name": "stdout",
     "output_type": "stream",
     "text": [
      "Model 0 training complete. The MSE was: 157.71368096510608\n",
      "Model 1 training complete. The MSE was: 171.65778595746272\n",
      "Model 2 training complete. The MSE was: 179.2976087026357\n",
      "Model 3 training complete. The MSE was: 165.33724437423814\n",
      "Model 4 training complete. The MSE was: 172.7243604240898\n",
      "Model 5 training complete. The MSE was: 166.65657272833516\n",
      "Model 6 training complete. The MSE was: 157.96847147975558\n",
      "Model 7 training complete. The MSE was: 170.96631666334434\n",
      "Model 8 training complete. The MSE was: 160.25797977372991\n",
      "Model 9 training complete. The MSE was: 162.8355443291307\n",
      "Model 10 training complete. The MSE was: 166.68575130720268\n",
      "Model 11 training complete. The MSE was: 176.96009477931756\n",
      "Model 12 training complete. The MSE was: 181.34171917967387\n",
      "Model 13 training complete. The MSE was: 155.7048055540575\n",
      "Model 14 training complete. The MSE was: 177.322935927021\n",
      "Model 15 training complete. The MSE was: 186.6529677102264\n",
      "Model 16 training complete. The MSE was: 161.15909150835472\n",
      "Model 17 training complete. The MSE was: 166.27751972938907\n",
      "Model 18 training complete. The MSE was: 151.78622167392385\n",
      "Model 19 training complete. The MSE was: 157.69278068002623\n",
      "Model 20 training complete. The MSE was: 164.12047275679714\n",
      "Model 21 training complete. The MSE was: 142.06829383852892\n",
      "Model 22 training complete. The MSE was: 167.38783292755556\n",
      "Model 23 training complete. The MSE was: 158.34503858171672\n",
      "Model 24 training complete. The MSE was: 170.53998750214868\n",
      "Model 25 training complete. The MSE was: 157.1842022995176\n",
      "Model 26 training complete. The MSE was: 154.45480528198985\n",
      "Model 27 training complete. The MSE was: 171.9189440565679\n",
      "Model 28 training complete. The MSE was: 169.03916133611577\n",
      "Model 29 training complete. The MSE was: 176.53406081602577\n",
      "Model 30 training complete. The MSE was: 158.63858122907638\n",
      "Model 31 training complete. The MSE was: 159.58320966694015\n",
      "Model 32 training complete. The MSE was: 153.93179478717948\n",
      "Model 33 training complete. The MSE was: 175.0354521799378\n",
      "Model 34 training complete. The MSE was: 287.7098905546305\n",
      "Model 35 training complete. The MSE was: 176.5614618458342\n",
      "Model 36 training complete. The MSE was: 158.86860613399975\n",
      "Model 37 training complete. The MSE was: 183.6605213106863\n",
      "Model 38 training complete. The MSE was: 169.857874094518\n",
      "Model 39 training complete. The MSE was: 173.21180394476954\n",
      "Model 40 training complete. The MSE was: 158.3571252111114\n",
      "Model 41 training complete. The MSE was: 164.7604099214512\n",
      "Model 42 training complete. The MSE was: 177.87313431734628\n",
      "Model 43 training complete. The MSE was: 164.49360588611447\n",
      "Model 44 training complete. The MSE was: 158.97909045189223\n",
      "Model 45 training complete. The MSE was: 171.5328656936215\n",
      "Model 46 training complete. The MSE was: 168.09782467902195\n",
      "Model 47 training complete. The MSE was: 158.92194007065797\n",
      "Model 48 training complete. The MSE was: 165.82212208294283\n",
      "Model 49 training complete. The MSE was: 168.70194715962774\n"
     ]
    }
   ],
   "source": [
    "epochs_mse_list = []\n",
    "for i in range(50):\n",
    "    model = build_model()\n",
    "    model.fit(x_norm_train, y_norm_train, epochs=100, verbose=0)    \n",
    "    norm_predictions = model.predict(x_norm_test)\n",
    "    norm_mse = sklearn.metrics.mean_squared_error(y_norm_test, norm_predictions)\n",
    "    epochs_mse_list.append(norm_mse)   \n",
    "    print(\"Model\", i, \"training complete. The MSE was:\", norm_mse)"
   ]
  },
  {
   "cell_type": "code",
   "execution_count": 22,
   "metadata": {},
   "outputs": [
    {
     "name": "stdout",
     "output_type": "stream",
     "text": [
      "Using normalized data, the average MSE of the 50 models was 168.6638302813069 \n",
      "The standard deviation of the MSE values was 19.408553288277908\n"
     ]
    }
   ],
   "source": [
    "# Determine mean and standard deviation of the MSE values of the 50 trained models\n",
    "epochs_mse_mean = statistics.mean(epochs_mse_list)\n",
    "epochs_mse_stdev = statistics.stdev(epochs_mse_list)\n",
    "\n",
    "# Report the mean and standard deviation of the MSE values for the 50 models\n",
    "print(\"Using normalized data, the average MSE of the 50 models was\", epochs_mse_mean, \"\\nThe standard deviation of the MSE values was\", epochs_mse_stdev)"
   ]
  },
  {
   "cell_type": "markdown",
   "metadata": {},
   "source": [
    "### Increasing the number of epochs in each model from 50 to 100 significantly reduced both the mean and standard deviation of the MSE values.\n",
    "### Part B (50 epochs):  Mean: 388.1  Std Dev: 111.0\n",
    "### Part C (100 epochs): Mean: 168.7  Std Dev: 19.41"
   ]
  },
  {
   "cell_type": "markdown",
   "metadata": {},
   "source": [
    "# Part D\n",
    "A repeat of Part B, but using a network with three hidden layers instead of just one."
   ]
  },
  {
   "cell_type": "code",
   "execution_count": 23,
   "metadata": {},
   "outputs": [],
   "source": [
    "# Define a new function to build a model with three hidden layers of 10 nodes, relu activation function, adam optimizer, mse loss function\n",
    "def build_layered_model():\n",
    "    # create model\n",
    "    model = Sequential()\n",
    "    model.add(Dense(10, activation='relu', input_shape=(n_cols,)))\n",
    "    model.add(Dense(10, activation='relu'))\n",
    "    model.add(Dense(10, activation='relu'))\n",
    "    model.add(Dense(1))\n",
    "    \n",
    "    # compile model\n",
    "    model.compile(optimizer='adam', loss='mean_squared_error')\n",
    "    return model"
   ]
  },
  {
   "cell_type": "code",
   "execution_count": 24,
   "metadata": {},
   "outputs": [
    {
     "name": "stdout",
     "output_type": "stream",
     "text": [
      "Model 0 training complete. The MSE was: 122.38765899489438\n",
      "Model 1 training complete. The MSE was: 128.88928024982383\n",
      "Model 2 training complete. The MSE was: 127.8950908835769\n",
      "Model 3 training complete. The MSE was: 131.22619151949866\n",
      "Model 4 training complete. The MSE was: 139.67712863003862\n",
      "Model 5 training complete. The MSE was: 115.27638589051901\n",
      "Model 6 training complete. The MSE was: 141.74599099662953\n",
      "Model 7 training complete. The MSE was: 137.1989957623677\n",
      "Model 8 training complete. The MSE was: 146.2865685992328\n",
      "Model 9 training complete. The MSE was: 130.05827981474556\n",
      "Model 10 training complete. The MSE was: 135.61060388441777\n",
      "Model 11 training complete. The MSE was: 124.76618593230401\n",
      "Model 12 training complete. The MSE was: 137.80514452932533\n",
      "Model 13 training complete. The MSE was: 136.82064701095024\n",
      "Model 14 training complete. The MSE was: 133.34708542521568\n",
      "Model 15 training complete. The MSE was: 124.28505937049795\n",
      "Model 16 training complete. The MSE was: 115.12129941183541\n",
      "Model 17 training complete. The MSE was: 115.28550824496514\n",
      "Model 18 training complete. The MSE was: 125.91804573935723\n",
      "Model 19 training complete. The MSE was: 130.98199590173562\n",
      "Model 20 training complete. The MSE was: 136.59508438623888\n",
      "Model 21 training complete. The MSE was: 145.5249669129452\n",
      "Model 22 training complete. The MSE was: 111.5579280407512\n",
      "Model 23 training complete. The MSE was: 129.96005058452542\n",
      "Model 24 training complete. The MSE was: 114.98160101917831\n",
      "Model 25 training complete. The MSE was: 131.02672062309207\n",
      "Model 26 training complete. The MSE was: 133.81778133209204\n",
      "Model 27 training complete. The MSE was: 137.16445619526687\n",
      "Model 28 training complete. The MSE was: 129.90212484991812\n",
      "Model 29 training complete. The MSE was: 130.51768306485764\n",
      "Model 30 training complete. The MSE was: 136.50943252392312\n",
      "Model 31 training complete. The MSE was: 135.3419447025307\n",
      "Model 32 training complete. The MSE was: 136.51154257495412\n",
      "Model 33 training complete. The MSE was: 113.96175516610114\n",
      "Model 34 training complete. The MSE was: 136.20606953259707\n",
      "Model 35 training complete. The MSE was: 133.67572207647558\n",
      "Model 36 training complete. The MSE was: 122.67269763097114\n",
      "Model 37 training complete. The MSE was: 132.23594383301165\n",
      "Model 38 training complete. The MSE was: 118.44922864782234\n",
      "Model 39 training complete. The MSE was: 138.69529949986207\n",
      "Model 40 training complete. The MSE was: 136.184211733033\n",
      "Model 41 training complete. The MSE was: 135.54564011647506\n",
      "Model 42 training complete. The MSE was: 142.81426284452448\n",
      "Model 43 training complete. The MSE was: 148.5432147199079\n",
      "Model 44 training complete. The MSE was: 135.64002412812016\n",
      "Model 45 training complete. The MSE was: 139.08417363427012\n",
      "Model 46 training complete. The MSE was: 130.04571923781808\n",
      "Model 47 training complete. The MSE was: 142.84565660920546\n",
      "Model 48 training complete. The MSE was: 129.0256790435202\n",
      "Model 49 training complete. The MSE was: 131.5437410834931\n"
     ]
    }
   ],
   "source": [
    "# Run the 50 training and testing cycles\n",
    "layered_mse_list = []\n",
    "for i in range(50):\n",
    "    model = build_layered_model()\n",
    "    model.fit(x_norm_train, y_norm_train, epochs=50, verbose=0)    \n",
    "    norm_predictions = model.predict(x_norm_test)\n",
    "    norm_mse = sklearn.metrics.mean_squared_error(y_norm_test, norm_predictions)\n",
    "    layered_mse_list.append(norm_mse)   \n",
    "    print(\"Model\", i, \"training complete. The MSE was:\", norm_mse)"
   ]
  },
  {
   "cell_type": "code",
   "execution_count": 25,
   "metadata": {},
   "outputs": [
    {
     "name": "stdout",
     "output_type": "stream",
     "text": [
      "Using normalized data, the average MSE of the 50 models was 131.54327006278828 \n",
      "The standard deviation of the MSE values was 8.85787871658183\n"
     ]
    }
   ],
   "source": [
    "# Determine mean and standard deviation of the MSE values of the 50 trained models\n",
    "layered_mse_mean = statistics.mean(layered_mse_list)\n",
    "layered_mse_stdev = statistics.stdev(layered_mse_list)\n",
    "\n",
    "# Report the mean and standard deviation of the MSE values for the 50 models\n",
    "print(\"Using normalized data, the average MSE of the 50 models was\", layered_mse_mean, \"\\nThe standard deviation of the MSE values was\", layered_mse_stdev)"
   ]
  },
  {
   "cell_type": "markdown",
   "metadata": {},
   "source": [
    "### Increasing the number of hidden layers in each model from one to three significantly reduced both the mean and standard deviation of the MSE values compared to the previous examples.\n",
    "### Part B (1 hidden layer, 50 epochs):  Mean: 388.1  Std Dev: 111.0\n",
    "### Part C (1 hidden layer, 100 epochs): Mean: 168.7  Std Dev: 19.41\n",
    "### Part D (3 hidden layers, 50 epochs): Mean: 131.5  Std Dev: 8.858"
   ]
  }
 ],
 "metadata": {
  "kernelspec": {
   "display_name": "Python",
   "language": "python",
   "name": "conda-env-python-py"
  },
  "language_info": {
   "codemirror_mode": {
    "name": "ipython",
    "version": 3
   },
   "file_extension": ".py",
   "mimetype": "text/x-python",
   "name": "python",
   "nbconvert_exporter": "python",
   "pygments_lexer": "ipython3",
   "version": "3.6.11"
  }
 },
 "nbformat": 4,
 "nbformat_minor": 4
}
